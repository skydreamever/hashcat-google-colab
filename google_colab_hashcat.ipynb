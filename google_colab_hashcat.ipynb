{
  "nbformat": 4,
  "nbformat_minor": 0,
  "metadata": {
    "accelerator": "GPU",
    "colab": {
      "name": "google_colab_hashcat.ipynb",
      "provenance": [],
      "collapsed_sections": []
    },
    "kernelspec": {
      "display_name": "Python 3",
      "name": "python3"
    }
  },
  "cells": [
    {
      "cell_type": "code",
      "metadata": {
        "id": "XKYe9eGXGmWl"
      },
      "source": [
        "# change your hashcat setting here\n",
        "# hash type\n",
        "!echo \"0\" > /root/hash_type\n",
        "# attack mode\n",
        "!echo \"0\" > /root/attack_mode\n",
        "# If you have a customized dic, provide the url here. By default, we will use rockyou.txt. Ref: https://github.com/praetorian-inc/Hob0Rules/blob/master/wordlists/rockyou.txt.gz\n",
        "custom_dic_url = \"\"\n",
        "# custome rule set. If you have a customized rule, provide the url here. By default, we will use OneRuleToRuleThemAll (https://github.com/NotSoSecure/password_cracking_rules). Leave empty to not use rule file\n",
        "custom_rule_url = \"OneRuleToRuleThemAll\"\n",
        "# hash needed to crack\n",
        "crack_it = \"\""
      ],
      "execution_count": 15,
      "outputs": []
    },
    {
      "cell_type": "code",
      "metadata": {
        "id": "qx7jld_zTB1E"
      },
      "source": [
        "# Check GPU Specs\n",
        "!nvidia-smi"
      ],
      "execution_count": null,
      "outputs": []
    },
    {
      "cell_type": "code",
      "metadata": {
        "cellView": "both",
        "id": "Q5zVWgXVTc9X"
      },
      "source": [
        "# Clone, build and install Hashcat\n",
        "!apt install cmake build-essential -y\n",
        "!apt install checkinstall git -y\n",
        "!git clone https://github.com/hashcat/hashcat.git\n",
        "!cd hashcat && git submodule update --init && make && make install"
      ],
      "execution_count": null,
      "outputs": []
    },
    {
      "cell_type": "code",
      "metadata": {
        "id": "BKcdtozLUe1W"
      },
      "source": [
        "# Check the Hashcat Version to make sure it's installed correctly\n",
        "!hashcat --version"
      ],
      "execution_count": null,
      "outputs": []
    },
    {
      "cell_type": "code",
      "metadata": {
        "id": "UFwpl__HVvJ3"
      },
      "source": [
        "# WPA2 EAPOL Benchmark (change this to check the speed of whichever hash you're cracking)\n",
        "!hashcat -w 4 -m 2500 --benchmark"
      ],
      "execution_count": null,
      "outputs": []
    },
    {
      "cell_type": "code",
      "metadata": {
        "id": "5fmoX1ku_PsU"
      },
      "source": [
        "# Get wordlists\n",
        "!mkdir /root/wordlists && cd /root/wordlists"
      ],
      "execution_count": 5,
      "outputs": []
    },
    {
      "cell_type": "code",
      "metadata": {
        "id": "6PKOtWFmH5mt"
      },
      "source": [
        "from IPython import get_ipython\n",
        "\n",
        "# check custom dic\n",
        "if custom_dic_url:\n",
        "  get_ipython().system_raw('wget ' + custom_dic_url + \" -O /root/dic.txt\")\n",
        "else:\n",
        "  get_ipython().system_raw('git clone https://github.com/danielmiessler/SecLists /root/wordlists/SecLists')\n",
        "  get_ipython().system_raw('tar -xf /root/wordlists/SecLists/Passwords/Leaked-Databases/rockyou.txt.tar.gz -C /root/')\n",
        "  get_ipython().system_raw('mv /root/rockyou.txt /root/dic.txt')\n"
      ],
      "execution_count": 6,
      "outputs": []
    },
    {
      "cell_type": "code",
      "metadata": {
        "id": "0_RplexMLzc-"
      },
      "source": [
        "!ls -l /root/dic.txt"
      ],
      "execution_count": null,
      "outputs": []
    },
    {
      "cell_type": "code",
      "metadata": {
        "id": "NsUsTFfacjAG"
      },
      "source": [
        "# check rule file\n",
        "if custom_rule_url:\n",
        "  if custom_rule_url == \"OneRuleToRuleThemAll\":\n",
        "    get_ipython().system_raw('wget https://raw.githubusercontent.com/NotSoSecure/password_cracking_rules/master/OneRuleToRuleThemAll.rule -O /root/rule.txt')\n",
        "  else:\n",
        "    get_ipython().system_raw('wget ' + custom_rule_url + \" -O /root/rule.txt\")\n"
      ],
      "execution_count": 22,
      "outputs": []
    },
    {
      "cell_type": "code",
      "metadata": {
        "id": "_GniHzf_dR5y"
      },
      "source": [
        "!ls -l /root/rule.txt"
      ],
      "execution_count": null,
      "outputs": []
    },
    {
      "cell_type": "code",
      "metadata": {
        "id": "yIkXZRlEFUIz"
      },
      "source": [
        "# Check that your hashes\n",
        "if crack_it:\n",
        "  with open(\"/root/crack.it\", \"w\") as fd:\n",
        "    fd.write(crack_it)\n",
        "    fd.close()\n",
        "else:\n",
        "  print(\"WARNING: You Need input your hash to crack\")"
      ],
      "execution_count": 10,
      "outputs": []
    },
    {
      "cell_type": "code",
      "metadata": {
        "id": "9bKllM6aL4Ux"
      },
      "source": [
        "!cat /root/crack.it"
      ],
      "execution_count": null,
      "outputs": []
    },
    {
      "cell_type": "code",
      "metadata": {
        "id": "iLqp5xQCXwiq"
      },
      "source": [
        "# Start pure brute force cracking with a session name\n",
        "# !hashcat -m 2500 -a3 --session $SESSION /root/.hashcat/hashes/test.hccapx\n",
        "# !hashcat -m 2500 /root/.hashcat/hashes/test.hccapx -a 3 -w 4 --session test-session\n",
        "\n",
        "# Restore the session\n",
        "# !hashcat --session $SESSION --restore\n",
        "\n",
        "# Crack with a wordlist\n",
        "!ls -l /root/rule.txt\n",
        "!if [ $? == 0 ]; then hashcat -m `cat /root/hash_type` -a `cat /root/attack_mode` /root/crack.it /root/dic.txt -r /root/rule.txt; hashcat -m `cat /root/hash_type` -a `cat /root/attack_mode` /root/crack.it /root/dic.txt -r /root/rule.txt --show;  else hashcat -m `cat /root/hash_type` -a `cat /root/attack_mode` /root/crack.it /root/dic.txt -r /root/rule.txt; hashcat -m `cat /root/hash_type` -a `cat /root/attack_mode` /root/crack.it /root/dic.txt --show; fi"
      ],
      "execution_count": null,
      "outputs": []
    }
  ]
}